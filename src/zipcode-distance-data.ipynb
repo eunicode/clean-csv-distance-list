{
 "cells": [
  {
   "cell_type": "markdown",
   "id": "b5af61aa",
   "metadata": {},
   "source": [
    "# Clean zipcode distances csv and export as JSON"
   ]
  },
  {
   "cell_type": "markdown",
   "id": "cf70c5e2",
   "metadata": {},
   "source": [
    "## Imports"
   ]
  },
  {
   "cell_type": "code",
   "execution_count": 1,
   "id": "844c03ab",
   "metadata": {},
   "outputs": [],
   "source": [
    "import pandas as pd"
   ]
  },
  {
   "cell_type": "markdown",
   "id": "6dfdc11f",
   "metadata": {},
   "source": [
    "## Practice"
   ]
  },
  {
   "cell_type": "code",
   "execution_count": 8,
   "id": "aed85017",
   "metadata": {},
   "outputs": [],
   "source": [
    "car_data = pd.DataFrame({\n",
    "    \"Car make\": 'Ferrari',\n",
    "    \"Colour\": 'red'\n",
    "}, index=[0])"
   ]
  },
  {
   "cell_type": "code",
   "execution_count": 9,
   "id": "c1a069e8",
   "metadata": {},
   "outputs": [
    {
     "data": {
      "text/html": [
       "<div>\n",
       "<style scoped>\n",
       "    .dataframe tbody tr th:only-of-type {\n",
       "        vertical-align: middle;\n",
       "    }\n",
       "\n",
       "    .dataframe tbody tr th {\n",
       "        vertical-align: top;\n",
       "    }\n",
       "\n",
       "    .dataframe thead th {\n",
       "        text-align: right;\n",
       "    }\n",
       "</style>\n",
       "<table border=\"1\" class=\"dataframe\">\n",
       "  <thead>\n",
       "    <tr style=\"text-align: right;\">\n",
       "      <th></th>\n",
       "      <th>Car make</th>\n",
       "      <th>Colour</th>\n",
       "    </tr>\n",
       "  </thead>\n",
       "  <tbody>\n",
       "    <tr>\n",
       "      <th>0</th>\n",
       "      <td>Ferrari</td>\n",
       "      <td>red</td>\n",
       "    </tr>\n",
       "  </tbody>\n",
       "</table>\n",
       "</div>"
      ],
      "text/plain": [
       "  Car make Colour\n",
       "0  Ferrari    red"
      ]
     },
     "execution_count": 9,
     "metadata": {},
     "output_type": "execute_result"
    }
   ],
   "source": [
    "car_data"
   ]
  },
  {
   "cell_type": "markdown",
   "id": "941f3e5a",
   "metadata": {},
   "source": [
    "## Load data"
   ]
  },
  {
   "cell_type": "code",
   "execution_count": 22,
   "id": "2d4d4142",
   "metadata": {},
   "outputs": [],
   "source": [
    "# Create dataframe with pandas\n",
    "zipcode_dist_data_1 = pd.read_csv(\"./data/xab.csv\")"
   ]
  },
  {
   "cell_type": "markdown",
   "id": "3c5fb795",
   "metadata": {},
   "source": [
    "## Explore data"
   ]
  },
  {
   "cell_type": "code",
   "execution_count": 23,
   "id": "d6c44de1",
   "metadata": {},
   "outputs": [
    {
     "data": {
      "text/plain": [
       "(249999, 3)"
      ]
     },
     "execution_count": 23,
     "metadata": {},
     "output_type": "execute_result"
    }
   ],
   "source": [
    "# Number of (rows, columns)\n",
    "zipcode_dist_data_1.shape"
   ]
  },
  {
   "cell_type": "code",
   "execution_count": 24,
   "id": "78a26cda",
   "metadata": {},
   "outputs": [
    {
     "data": {
      "text/html": [
       "<div>\n",
       "<style scoped>\n",
       "    .dataframe tbody tr th:only-of-type {\n",
       "        vertical-align: middle;\n",
       "    }\n",
       "\n",
       "    .dataframe tbody tr th {\n",
       "        vertical-align: top;\n",
       "    }\n",
       "\n",
       "    .dataframe thead th {\n",
       "        text-align: right;\n",
       "    }\n",
       "</style>\n",
       "<table border=\"1\" class=\"dataframe\">\n",
       "  <thead>\n",
       "    <tr style=\"text-align: right;\">\n",
       "      <th></th>\n",
       "      <th>77971</th>\n",
       "      <th>77954</th>\n",
       "      <th>49.4699443579075</th>\n",
       "    </tr>\n",
       "  </thead>\n",
       "  <tbody>\n",
       "    <tr>\n",
       "      <th>0</th>\n",
       "      <td>77971</td>\n",
       "      <td>77434</td>\n",
       "      <td>49.742710</td>\n",
       "    </tr>\n",
       "    <tr>\n",
       "      <th>1</th>\n",
       "      <td>77973</td>\n",
       "      <td>77990</td>\n",
       "      <td>4.935484</td>\n",
       "    </tr>\n",
       "    <tr>\n",
       "      <th>2</th>\n",
       "      <td>77973</td>\n",
       "      <td>77951</td>\n",
       "      <td>7.573285</td>\n",
       "    </tr>\n",
       "    <tr>\n",
       "      <th>3</th>\n",
       "      <td>77973</td>\n",
       "      <td>77905</td>\n",
       "      <td>13.960610</td>\n",
       "    </tr>\n",
       "    <tr>\n",
       "      <th>4</th>\n",
       "      <td>77973</td>\n",
       "      <td>77977</td>\n",
       "      <td>15.010409</td>\n",
       "    </tr>\n",
       "    <tr>\n",
       "      <th>5</th>\n",
       "      <td>77973</td>\n",
       "      <td>77960</td>\n",
       "      <td>16.586468</td>\n",
       "    </tr>\n",
       "    <tr>\n",
       "      <th>6</th>\n",
       "      <td>77973</td>\n",
       "      <td>78377</td>\n",
       "      <td>17.464803</td>\n",
       "    </tr>\n",
       "    <tr>\n",
       "      <th>7</th>\n",
       "      <td>77973</td>\n",
       "      <td>77950</td>\n",
       "      <td>17.940617</td>\n",
       "    </tr>\n",
       "    <tr>\n",
       "      <th>8</th>\n",
       "      <td>77973</td>\n",
       "      <td>77901</td>\n",
       "      <td>18.071969</td>\n",
       "    </tr>\n",
       "    <tr>\n",
       "      <th>9</th>\n",
       "      <td>77973</td>\n",
       "      <td>77988</td>\n",
       "      <td>20.998217</td>\n",
       "    </tr>\n",
       "  </tbody>\n",
       "</table>\n",
       "</div>"
      ],
      "text/plain": [
       "   77971  77954  49.4699443579075\n",
       "0  77971  77434         49.742710\n",
       "1  77973  77990          4.935484\n",
       "2  77973  77951          7.573285\n",
       "3  77973  77905         13.960610\n",
       "4  77973  77977         15.010409\n",
       "5  77973  77960         16.586468\n",
       "6  77973  78377         17.464803\n",
       "7  77973  77950         17.940617\n",
       "8  77973  77901         18.071969\n",
       "9  77973  77988         20.998217"
      ]
     },
     "execution_count": 24,
     "metadata": {},
     "output_type": "execute_result"
    }
   ],
   "source": [
    "# Preview table\n",
    "zipcode_dist_data_1.head(10)"
   ]
  },
  {
   "cell_type": "code",
   "execution_count": 25,
   "id": "b20abb0c",
   "metadata": {},
   "outputs": [],
   "source": [
    "# Add column names\n",
    "zipcode_dist_data_1.columns = ['zipcode_1', 'zipcode_2', 'distance']"
   ]
  },
  {
   "cell_type": "code",
   "execution_count": 26,
   "id": "b1bcf41c",
   "metadata": {},
   "outputs": [
    {
     "name": "stdout",
     "output_type": "stream",
     "text": [
      "<class 'pandas.core.frame.DataFrame'>\n",
      "RangeIndex: 249999 entries, 0 to 249998\n",
      "Data columns (total 3 columns):\n",
      " #   Column     Non-Null Count   Dtype  \n",
      "---  ------     --------------   -----  \n",
      " 0   zipcode_1  249999 non-null  int64  \n",
      " 1   zipcode_2  249999 non-null  int64  \n",
      " 2   distance   249999 non-null  float64\n",
      "dtypes: float64(1), int64(2)\n",
      "memory usage: 5.7 MB\n"
     ]
    }
   ],
   "source": [
    "# Look at column info\n",
    "zipcode_dist_data_1.info()"
   ]
  },
  {
   "cell_type": "code",
   "execution_count": 27,
   "id": "1485e8a3",
   "metadata": {},
   "outputs": [
    {
     "data": {
      "text/plain": [
       "zipcode_1    0\n",
       "zipcode_2    0\n",
       "distance     0\n",
       "dtype: int64"
      ]
     },
     "execution_count": 27,
     "metadata": {},
     "output_type": "execute_result"
    }
   ],
   "source": [
    "# Check for missing values\n",
    "zipcode_dist_data_1.isna().sum()"
   ]
  },
  {
   "cell_type": "code",
   "execution_count": 28,
   "id": "3baabdf8",
   "metadata": {},
   "outputs": [
    {
     "data": {
      "text/html": [
       "<div>\n",
       "<style scoped>\n",
       "    .dataframe tbody tr th:only-of-type {\n",
       "        vertical-align: middle;\n",
       "    }\n",
       "\n",
       "    .dataframe tbody tr th {\n",
       "        vertical-align: top;\n",
       "    }\n",
       "\n",
       "    .dataframe thead th {\n",
       "        text-align: right;\n",
       "    }\n",
       "</style>\n",
       "<table border=\"1\" class=\"dataframe\">\n",
       "  <thead>\n",
       "    <tr style=\"text-align: right;\">\n",
       "      <th></th>\n",
       "      <th>zipcode_1</th>\n",
       "      <th>zipcode_2</th>\n",
       "      <th>distance</th>\n",
       "    </tr>\n",
       "  </thead>\n",
       "  <tbody>\n",
       "    <tr>\n",
       "      <th>0</th>\n",
       "      <td>77971</td>\n",
       "      <td>77434</td>\n",
       "      <td>49.742710</td>\n",
       "    </tr>\n",
       "    <tr>\n",
       "      <th>1</th>\n",
       "      <td>77973</td>\n",
       "      <td>77990</td>\n",
       "      <td>4.935484</td>\n",
       "    </tr>\n",
       "    <tr>\n",
       "      <th>2</th>\n",
       "      <td>77973</td>\n",
       "      <td>77951</td>\n",
       "      <td>7.573285</td>\n",
       "    </tr>\n",
       "    <tr>\n",
       "      <th>3</th>\n",
       "      <td>77973</td>\n",
       "      <td>77905</td>\n",
       "      <td>13.960610</td>\n",
       "    </tr>\n",
       "    <tr>\n",
       "      <th>4</th>\n",
       "      <td>77973</td>\n",
       "      <td>77977</td>\n",
       "      <td>15.010409</td>\n",
       "    </tr>\n",
       "  </tbody>\n",
       "</table>\n",
       "</div>"
      ],
      "text/plain": [
       "   zipcode_1  zipcode_2   distance\n",
       "0      77971      77434  49.742710\n",
       "1      77973      77990   4.935484\n",
       "2      77973      77951   7.573285\n",
       "3      77973      77905  13.960610\n",
       "4      77973      77977  15.010409"
      ]
     },
     "execution_count": 28,
     "metadata": {},
     "output_type": "execute_result"
    }
   ],
   "source": [
    "# Preview table\n",
    "zipcode_dist_data_1.head()"
   ]
  },
  {
   "cell_type": "markdown",
   "id": "a5a92b85",
   "metadata": {},
   "source": [
    "## Clean data"
   ]
  },
  {
   "cell_type": "code",
   "execution_count": 29,
   "id": "9daa1fde",
   "metadata": {},
   "outputs": [],
   "source": [
    "# Delete rows with column-one zip codes that are not in CA, ie greater than 90001\n",
    "zipcode_dist_data_1.drop(zipcode_dist_data_1[zipcode_dist_data_1.zipcode_1 < 90001].index, inplace = True)\n",
    "\n",
    "# https://stackoverflow.com/questions/13851535/how-to-delete-rows-from-a-pandas-dataframe-based-on-a-conditional-expression\n",
    "# https://www.geeksforgeeks.org/drop-rows-from-the-dataframe-based-on-certain-condition-applied-on-a-column/\n",
    "\"\"\"\n",
    "https://www.freecodecamp.org/news/drop-list-of-rows-from-pandas-dataframe/\n",
    "df.drop([5,6], axis=0, inplace=True)\n",
    "[5,6] is the index of the rows you want to delete\n",
    "axis=0 denotes that rows should be deleted from the dataframe\n",
    "inplace=True performs the drop operation in the same dataframe\n",
    "\"\"\""
   ]
  },
  {
   "cell_type": "code",
   "execution_count": 30,
   "id": "686315bf",
   "metadata": {},
   "outputs": [
    {
     "data": {
      "text/plain": [
       "(84933, 3)"
      ]
     },
     "execution_count": 30,
     "metadata": {},
     "output_type": "execute_result"
    }
   ],
   "source": [
    "# Number of (rows, columns)\n",
    "zipcode_dist_data_1.shape"
   ]
  },
  {
   "cell_type": "code",
   "execution_count": 31,
   "id": "3d1c862a",
   "metadata": {},
   "outputs": [],
   "source": [
    "# Delete rows with column-two zip codes that are not vendor zip codes\n",
    "vendorZips = [\n",
    "  80132, 80301, 80465, 80501, 80907, 85395, 90010, 90016, 90042, 90048, 90201,\n",
    "  90230, 90241, 90245, 90249, 90255, 90266, 90290, 90301, 90303, 90401, 90403,\n",
    "  90504, 90505, 90605, 90620, 90623, 90638, 90650, 90660, 90701, 90712, 90713,\n",
    "  90731, 90740, 90745, 90746, 90755, 90802, 90804, 90808, 91001, 91006, 91011,\n",
    "  91016, 91023, 91025, 91040, 91042, 91101, 91103, 91105, 91106, 91107, 91203,\n",
    "  91303, 91310, 91316, 91324, 91335, 91342, 91344, 91350, 91351, 91355, 91360,\n",
    "  91367, 91384, 91387, 91390, 91405, 91502, 91504, 91604, 91702, 91709, 91710,\n",
    "  91719, 91722, 91730, 91731, 91739, 91741, 91744, 91748, 91754, 91759, 91761,\n",
    "  91767, 91773, 91784, 91786, 91791, 91801, 91901, 91906, 91910, 91916, 91948,\n",
    "  91962, 91977, 92009, 92020, 92024, 92026, 92027, 92028, 92036, 92054, 92056,\n",
    "  92064, 92065, 92069, 92075, 92083, 92084, 92109, 92110, 92111, 92115, 92126,\n",
    "  92127, 92128, 92154, 92173, 92220, 92223, 92234, 92236, 92243, 92252, 92253,\n",
    "  92260, 92284, 92305, 92314, 92315, 92317, 92321, 92325, 92333, 92335, 92336,\n",
    "  92339, 92345, 92351, 92352, 92356, 92358, 92359, 92371, 92373, 92376, 92378,\n",
    "  92382, 92391, 92392, 92397, 92399, 92401, 92404, 92405, 92408, 92410, 92449,\n",
    "  92503, 92506, 92509, 92530, 92539, 92543, 92544, 92545, 92549, 92553, 92561,\n",
    "  92562, 92570, 92571, 92590, 92592, 92595, 92624, 92626, 92630, 92647, 92648,\n",
    "  92664, 92665, 92676, 92678, 92680, 92685, 92688, 92706, 92708, 92714, 92782,\n",
    "  92801, 92802, 92805, 92806, 92879, 92886, 93001, 93003, 93010, 93015, 93022,\n",
    "  93023, 93036, 93060, 93065, 93101, 93105, 93117, 93210, 93222, 93225, 93243,\n",
    "  93252, 93254, 93304, 93306, 93401, 93422, 93436, 93441, 93446, 93454, 93460,\n",
    "  93510, 93532, 93534, 93535, 93543, 93551, 93552, 93553, 93561, 93591, 93637,\n",
    "  93930, 93940, 95020, 95422, 95834, 97230, 97478, 98001, 98002, 98003, 98004,\n",
    "  98008, 98012, 98026, 98031, 98032, 98033, 98037, 98042, 98055, 98072, 98148,\n",
    "  98199, 98223, 98272, 98366, 98375, 98383, 98407, 98424, 98444, 98467,\n",
    "]\n",
    "\n",
    "zipcode_dist_data_1 = zipcode_dist_data_1.query(\"zipcode_2 in @vendorZips\")\n",
    "\n",
    "# https://stackoverflow.com/questions/19960077/how-to-filter-pandas-dataframe-using-in-and-not-in-like-in-sql\n",
    "# https://stackoverflow.com/questions/43269548/pandas-how-to-remove-rows-from-a-dataframe-based-on-a-list"
   ]
  },
  {
   "cell_type": "code",
   "execution_count": 32,
   "id": "0a761e0c",
   "metadata": {},
   "outputs": [
    {
     "data": {
      "text/plain": [
       "(23441, 3)"
      ]
     },
     "execution_count": 32,
     "metadata": {},
     "output_type": "execute_result"
    }
   ],
   "source": [
    "# Number of (rows, columns)\n",
    "zipcode_dist_data_1.shape"
   ]
  },
  {
   "cell_type": "code",
   "execution_count": 33,
   "id": "dc023a4b",
   "metadata": {},
   "outputs": [
    {
     "data": {
      "text/html": [
       "<div>\n",
       "<style scoped>\n",
       "    .dataframe tbody tr th:only-of-type {\n",
       "        vertical-align: middle;\n",
       "    }\n",
       "\n",
       "    .dataframe tbody tr th {\n",
       "        vertical-align: top;\n",
       "    }\n",
       "\n",
       "    .dataframe thead th {\n",
       "        text-align: right;\n",
       "    }\n",
       "</style>\n",
       "<table border=\"1\" class=\"dataframe\">\n",
       "  <thead>\n",
       "    <tr style=\"text-align: right;\">\n",
       "      <th></th>\n",
       "      <th>zipcode_1</th>\n",
       "      <th>zipcode_2</th>\n",
       "      <th>distance</th>\n",
       "    </tr>\n",
       "  </thead>\n",
       "  <tbody>\n",
       "    <tr>\n",
       "      <th>165068</th>\n",
       "      <td>90001</td>\n",
       "      <td>90255</td>\n",
       "      <td>1.872821</td>\n",
       "    </tr>\n",
       "    <tr>\n",
       "      <th>165085</th>\n",
       "      <td>90001</td>\n",
       "      <td>90201</td>\n",
       "      <td>4.484633</td>\n",
       "    </tr>\n",
       "    <tr>\n",
       "      <th>165092</th>\n",
       "      <td>90001</td>\n",
       "      <td>90303</td>\n",
       "      <td>5.240103</td>\n",
       "    </tr>\n",
       "    <tr>\n",
       "      <th>165103</th>\n",
       "      <td>90001</td>\n",
       "      <td>90249</td>\n",
       "      <td>6.291307</td>\n",
       "    </tr>\n",
       "    <tr>\n",
       "      <th>165105</th>\n",
       "      <td>90001</td>\n",
       "      <td>90301</td>\n",
       "      <td>6.369897</td>\n",
       "    </tr>\n",
       "    <tr>\n",
       "      <th>165117</th>\n",
       "      <td>90001</td>\n",
       "      <td>90016</td>\n",
       "      <td>7.080508</td>\n",
       "    </tr>\n",
       "    <tr>\n",
       "      <th>165118</th>\n",
       "      <td>90001</td>\n",
       "      <td>90010</td>\n",
       "      <td>7.177897</td>\n",
       "    </tr>\n",
       "    <tr>\n",
       "      <th>165121</th>\n",
       "      <td>90001</td>\n",
       "      <td>90241</td>\n",
       "      <td>7.284691</td>\n",
       "    </tr>\n",
       "    <tr>\n",
       "      <th>165128</th>\n",
       "      <td>90001</td>\n",
       "      <td>90746</td>\n",
       "      <td>7.937149</td>\n",
       "    </tr>\n",
       "    <tr>\n",
       "      <th>165131</th>\n",
       "      <td>90001</td>\n",
       "      <td>91754</td>\n",
       "      <td>8.161111</td>\n",
       "    </tr>\n",
       "  </tbody>\n",
       "</table>\n",
       "</div>"
      ],
      "text/plain": [
       "        zipcode_1  zipcode_2  distance\n",
       "165068      90001      90255  1.872821\n",
       "165085      90001      90201  4.484633\n",
       "165092      90001      90303  5.240103\n",
       "165103      90001      90249  6.291307\n",
       "165105      90001      90301  6.369897\n",
       "165117      90001      90016  7.080508\n",
       "165118      90001      90010  7.177897\n",
       "165121      90001      90241  7.284691\n",
       "165128      90001      90746  7.937149\n",
       "165131      90001      91754  8.161111"
      ]
     },
     "execution_count": 33,
     "metadata": {},
     "output_type": "execute_result"
    }
   ],
   "source": [
    "# Preview table\n",
    "zipcode_dist_data_1.head(10)"
   ]
  },
  {
   "cell_type": "code",
   "execution_count": 35,
   "id": "4cdfb4b4",
   "metadata": {},
   "outputs": [
    {
     "data": {
      "text/html": [
       "<div>\n",
       "<style scoped>\n",
       "    .dataframe tbody tr th:only-of-type {\n",
       "        vertical-align: middle;\n",
       "    }\n",
       "\n",
       "    .dataframe tbody tr th {\n",
       "        vertical-align: top;\n",
       "    }\n",
       "\n",
       "    .dataframe thead th {\n",
       "        text-align: right;\n",
       "    }\n",
       "</style>\n",
       "<table border=\"1\" class=\"dataframe\">\n",
       "  <thead>\n",
       "    <tr style=\"text-align: right;\">\n",
       "      <th></th>\n",
       "      <th>zipcode_1</th>\n",
       "      <th>zipcode_2</th>\n",
       "      <th>distance</th>\n",
       "    </tr>\n",
       "  </thead>\n",
       "  <tbody>\n",
       "    <tr>\n",
       "      <th>0</th>\n",
       "      <td>90001</td>\n",
       "      <td>90255</td>\n",
       "      <td>1.872821</td>\n",
       "    </tr>\n",
       "    <tr>\n",
       "      <th>1</th>\n",
       "      <td>90001</td>\n",
       "      <td>90201</td>\n",
       "      <td>4.484633</td>\n",
       "    </tr>\n",
       "    <tr>\n",
       "      <th>2</th>\n",
       "      <td>90001</td>\n",
       "      <td>90303</td>\n",
       "      <td>5.240103</td>\n",
       "    </tr>\n",
       "    <tr>\n",
       "      <th>3</th>\n",
       "      <td>90001</td>\n",
       "      <td>90249</td>\n",
       "      <td>6.291307</td>\n",
       "    </tr>\n",
       "    <tr>\n",
       "      <th>4</th>\n",
       "      <td>90001</td>\n",
       "      <td>90301</td>\n",
       "      <td>6.369897</td>\n",
       "    </tr>\n",
       "    <tr>\n",
       "      <th>...</th>\n",
       "      <td>...</td>\n",
       "      <td>...</td>\n",
       "      <td>...</td>\n",
       "    </tr>\n",
       "    <tr>\n",
       "      <th>23436</th>\n",
       "      <td>91311</td>\n",
       "      <td>91748</td>\n",
       "      <td>45.804456</td>\n",
       "    </tr>\n",
       "    <tr>\n",
       "      <th>23437</th>\n",
       "      <td>91311</td>\n",
       "      <td>93252</td>\n",
       "      <td>46.472639</td>\n",
       "    </tr>\n",
       "    <tr>\n",
       "      <th>23438</th>\n",
       "      <td>91311</td>\n",
       "      <td>91773</td>\n",
       "      <td>47.034970</td>\n",
       "    </tr>\n",
       "    <tr>\n",
       "      <th>23439</th>\n",
       "      <td>91311</td>\n",
       "      <td>90740</td>\n",
       "      <td>47.754886</td>\n",
       "    </tr>\n",
       "    <tr>\n",
       "      <th>23440</th>\n",
       "      <td>91311</td>\n",
       "      <td>92801</td>\n",
       "      <td>48.454488</td>\n",
       "    </tr>\n",
       "  </tbody>\n",
       "</table>\n",
       "<p>23441 rows × 3 columns</p>\n",
       "</div>"
      ],
      "text/plain": [
       "       zipcode_1  zipcode_2   distance\n",
       "0          90001      90255   1.872821\n",
       "1          90001      90201   4.484633\n",
       "2          90001      90303   5.240103\n",
       "3          90001      90249   6.291307\n",
       "4          90001      90301   6.369897\n",
       "...          ...        ...        ...\n",
       "23436      91311      91748  45.804456\n",
       "23437      91311      93252  46.472639\n",
       "23438      91311      91773  47.034970\n",
       "23439      91311      90740  47.754886\n",
       "23440      91311      92801  48.454488\n",
       "\n",
       "[23441 rows x 3 columns]"
      ]
     },
     "execution_count": 35,
     "metadata": {},
     "output_type": "execute_result"
    }
   ],
   "source": [
    "# delete index column\n",
    "zipcode_dist_data_1.reset_index(drop=True)"
   ]
  },
  {
   "cell_type": "code",
   "execution_count": 38,
   "id": "e4061a92",
   "metadata": {},
   "outputs": [],
   "source": [
    "# Export to csv without index\n",
    "\n",
    "zipcode_dist_data_1.to_csv(\"xab_clean.csv\", header=False, index=False)\n",
    "\n",
    "# https://stackoverflow.com/questions/60117334/how-to-remove-the-index-column-in-pandas\n",
    "# https://stackoverflow.com/questions/16923281/writing-a-pandas-dataframe-to-csv-file\n",
    "# https://www.geeksforgeeks.org/saving-a-pandas-dataframe-as-a-csv/"
   ]
  },
  {
   "cell_type": "code",
   "execution_count": 40,
   "id": "f217bc0c",
   "metadata": {},
   "outputs": [],
   "source": [
    "# Export dataframe to JSON \n",
    "zipcode_dist_data_1.to_json('xab_clean.json', orient='records')\n",
    "# https://datatofish.com/export-pandas-dataframe-json/\n",
    "# orient by column, row (records)"
   ]
  },
  {
   "cell_type": "markdown",
   "id": "24356112",
   "metadata": {},
   "source": [
    "## CSV File #2"
   ]
  },
  {
   "cell_type": "code",
   "execution_count": 41,
   "id": "41661454",
   "metadata": {},
   "outputs": [],
   "source": [
    "# Create dataframe with pandas\n",
    "zip_2 = pd.read_csv(\"./data/xac.csv\")"
   ]
  },
  {
   "cell_type": "code",
   "execution_count": 43,
   "id": "f1b8d45f",
   "metadata": {},
   "outputs": [
    {
     "data": {
      "text/html": [
       "<div>\n",
       "<style scoped>\n",
       "    .dataframe tbody tr th:only-of-type {\n",
       "        vertical-align: middle;\n",
       "    }\n",
       "\n",
       "    .dataframe tbody tr th {\n",
       "        vertical-align: top;\n",
       "    }\n",
       "\n",
       "    .dataframe thead th {\n",
       "        text-align: right;\n",
       "    }\n",
       "</style>\n",
       "<table border=\"1\" class=\"dataframe\">\n",
       "  <thead>\n",
       "    <tr style=\"text-align: right;\">\n",
       "      <th></th>\n",
       "      <th>91311</th>\n",
       "      <th>93591</th>\n",
       "      <th>49.5619469214655</th>\n",
       "    </tr>\n",
       "  </thead>\n",
       "  <tbody>\n",
       "    <tr>\n",
       "      <th>0</th>\n",
       "      <td>91311</td>\n",
       "      <td>92841</td>\n",
       "      <td>49.892365</td>\n",
       "    </tr>\n",
       "    <tr>\n",
       "      <th>1</th>\n",
       "      <td>91311</td>\n",
       "      <td>90742</td>\n",
       "      <td>49.960204</td>\n",
       "    </tr>\n",
       "    <tr>\n",
       "      <th>2</th>\n",
       "      <td>91316</td>\n",
       "      <td>91436</td>\n",
       "      <td>1.646577</td>\n",
       "    </tr>\n",
       "    <tr>\n",
       "      <th>3</th>\n",
       "      <td>91316</td>\n",
       "      <td>91356</td>\n",
       "      <td>1.868290</td>\n",
       "    </tr>\n",
       "    <tr>\n",
       "      <th>4</th>\n",
       "      <td>91316</td>\n",
       "      <td>91406</td>\n",
       "      <td>2.827690</td>\n",
       "    </tr>\n",
       "  </tbody>\n",
       "</table>\n",
       "</div>"
      ],
      "text/plain": [
       "   91311  93591  49.5619469214655\n",
       "0  91311  92841         49.892365\n",
       "1  91311  90742         49.960204\n",
       "2  91316  91436          1.646577\n",
       "3  91316  91356          1.868290\n",
       "4  91316  91406          2.827690"
      ]
     },
     "execution_count": 43,
     "metadata": {},
     "output_type": "execute_result"
    }
   ],
   "source": [
    "# Preview table\n",
    "zip_2.head()"
   ]
  },
  {
   "cell_type": "code",
   "execution_count": 45,
   "id": "128a311f",
   "metadata": {},
   "outputs": [],
   "source": [
    "# Add column names\n",
    "zip_2.columns = ['zipcode_1', 'zipcode_2', 'distance']"
   ]
  },
  {
   "cell_type": "code",
   "execution_count": 46,
   "id": "1de3fcf0",
   "metadata": {},
   "outputs": [],
   "source": [
    "# Delete rows with column-one zip codes that are not in CA, ie greater than 96162\n",
    "zip_2.drop(zip_2[zip_2.zipcode_1 > 96162].index, inplace = True)"
   ]
  },
  {
   "cell_type": "code",
   "execution_count": 48,
   "id": "b97f1007",
   "metadata": {},
   "outputs": [
    {
     "data": {
      "text/plain": [
       "(249999, 3)"
      ]
     },
     "execution_count": 48,
     "metadata": {},
     "output_type": "execute_result"
    }
   ],
   "source": [
    "# Number of (rows, columns)\n",
    "zip_2.shape"
   ]
  },
  {
   "cell_type": "code",
   "execution_count": 49,
   "id": "55eaf18c",
   "metadata": {},
   "outputs": [],
   "source": [
    "# Delete rows with column-two zip codes that are not vendor zip codes\n",
    "zip_2 = zip_2.query(\"zipcode_2 in @vendorZips\")"
   ]
  },
  {
   "cell_type": "code",
   "execution_count": 50,
   "id": "a387fd1b",
   "metadata": {},
   "outputs": [
    {
     "data": {
      "text/plain": [
       "(37630, 3)"
      ]
     },
     "execution_count": 50,
     "metadata": {},
     "output_type": "execute_result"
    }
   ],
   "source": [
    "zip_2.shape"
   ]
  },
  {
   "cell_type": "code",
   "execution_count": 51,
   "id": "1d782fc3",
   "metadata": {},
   "outputs": [
    {
     "data": {
      "text/html": [
       "<div>\n",
       "<style scoped>\n",
       "    .dataframe tbody tr th:only-of-type {\n",
       "        vertical-align: middle;\n",
       "    }\n",
       "\n",
       "    .dataframe tbody tr th {\n",
       "        vertical-align: top;\n",
       "    }\n",
       "\n",
       "    .dataframe thead th {\n",
       "        text-align: right;\n",
       "    }\n",
       "</style>\n",
       "<table border=\"1\" class=\"dataframe\">\n",
       "  <thead>\n",
       "    <tr style=\"text-align: right;\">\n",
       "      <th></th>\n",
       "      <th>zipcode_1</th>\n",
       "      <th>zipcode_2</th>\n",
       "      <th>distance</th>\n",
       "    </tr>\n",
       "  </thead>\n",
       "  <tbody>\n",
       "    <tr>\n",
       "      <th>6</th>\n",
       "      <td>91316</td>\n",
       "      <td>91335</td>\n",
       "      <td>3.120382</td>\n",
       "    </tr>\n",
       "    <tr>\n",
       "      <th>10</th>\n",
       "      <td>91316</td>\n",
       "      <td>91405</td>\n",
       "      <td>4.746460</td>\n",
       "    </tr>\n",
       "    <tr>\n",
       "      <th>18</th>\n",
       "      <td>91316</td>\n",
       "      <td>91303</td>\n",
       "      <td>5.546652</td>\n",
       "    </tr>\n",
       "    <tr>\n",
       "      <th>20</th>\n",
       "      <td>91316</td>\n",
       "      <td>91324</td>\n",
       "      <td>5.743113</td>\n",
       "    </tr>\n",
       "    <tr>\n",
       "      <th>21</th>\n",
       "      <td>91316</td>\n",
       "      <td>91367</td>\n",
       "      <td>5.850308</td>\n",
       "    </tr>\n",
       "  </tbody>\n",
       "</table>\n",
       "</div>"
      ],
      "text/plain": [
       "    zipcode_1  zipcode_2  distance\n",
       "6       91316      91335  3.120382\n",
       "10      91316      91405  4.746460\n",
       "18      91316      91303  5.546652\n",
       "20      91316      91324  5.743113\n",
       "21      91316      91367  5.850308"
      ]
     },
     "execution_count": 51,
     "metadata": {},
     "output_type": "execute_result"
    }
   ],
   "source": [
    "zip_2.head()"
   ]
  },
  {
   "cell_type": "code",
   "execution_count": 52,
   "id": "7dc6f772",
   "metadata": {},
   "outputs": [],
   "source": [
    "# Export to csv without index and header\n",
    "\n",
    "zip_2.to_csv(\"xac_clean.csv\", header=False, index=False)"
   ]
  },
  {
   "cell_type": "code",
   "execution_count": 53,
   "id": "2b973242",
   "metadata": {},
   "outputs": [],
   "source": [
    "# Export dataframe to JSON \n",
    "\n",
    "zip_2.to_json('xac_clean.json', orient='records')"
   ]
  },
  {
   "cell_type": "markdown",
   "id": "721a921a",
   "metadata": {},
   "source": [
    "## CSV File #3"
   ]
  },
  {
   "cell_type": "code",
   "execution_count": 54,
   "id": "c5ef711c",
   "metadata": {},
   "outputs": [],
   "source": [
    "# Create dataframe with pandas\n",
    "zip_3 = pd.read_csv(\"./data/xad.csv\")"
   ]
  },
  {
   "cell_type": "code",
   "execution_count": 58,
   "id": "66da97c0",
   "metadata": {},
   "outputs": [
    {
     "data": {
      "text/html": [
       "<div>\n",
       "<style scoped>\n",
       "    .dataframe tbody tr th:only-of-type {\n",
       "        vertical-align: middle;\n",
       "    }\n",
       "\n",
       "    .dataframe tbody tr th {\n",
       "        vertical-align: top;\n",
       "    }\n",
       "\n",
       "    .dataframe thead th {\n",
       "        text-align: right;\n",
       "    }\n",
       "</style>\n",
       "<table border=\"1\" class=\"dataframe\">\n",
       "  <thead>\n",
       "    <tr style=\"text-align: right;\">\n",
       "      <th></th>\n",
       "      <th>95968</th>\n",
       "      <th>95942</th>\n",
       "      <th>40.3746477858943</th>\n",
       "    </tr>\n",
       "  </thead>\n",
       "  <tbody>\n",
       "    <tr>\n",
       "      <th>0</th>\n",
       "      <td>95968</td>\n",
       "      <td>95722</td>\n",
       "      <td>40.378114</td>\n",
       "    </tr>\n",
       "    <tr>\n",
       "      <th>1</th>\n",
       "      <td>95968</td>\n",
       "      <td>95659</td>\n",
       "      <td>40.985276</td>\n",
       "    </tr>\n",
       "    <tr>\n",
       "      <th>2</th>\n",
       "      <td>95968</td>\n",
       "      <td>95736</td>\n",
       "      <td>41.170377</td>\n",
       "    </tr>\n",
       "    <tr>\n",
       "      <th>3</th>\n",
       "      <td>95968</td>\n",
       "      <td>95936</td>\n",
       "      <td>41.202711</td>\n",
       "    </tr>\n",
       "    <tr>\n",
       "      <th>4</th>\n",
       "      <td>95968</td>\n",
       "      <td>95714</td>\n",
       "      <td>41.330279</td>\n",
       "    </tr>\n",
       "  </tbody>\n",
       "</table>\n",
       "</div>"
      ],
      "text/plain": [
       "   95968  95942  40.3746477858943\n",
       "0  95968  95722         40.378114\n",
       "1  95968  95659         40.985276\n",
       "2  95968  95736         41.170377\n",
       "3  95968  95936         41.202711\n",
       "4  95968  95714         41.330279"
      ]
     },
     "execution_count": 58,
     "metadata": {},
     "output_type": "execute_result"
    }
   ],
   "source": [
    "# Preview table\n",
    "zip_3.head()"
   ]
  },
  {
   "cell_type": "code",
   "execution_count": 59,
   "id": "a79ad7fe",
   "metadata": {},
   "outputs": [],
   "source": [
    "# Add column names\n",
    "zip_3.columns = ['zipcode_1', 'zipcode_2', 'distance']"
   ]
  },
  {
   "cell_type": "code",
   "execution_count": 60,
   "id": "535220de",
   "metadata": {},
   "outputs": [],
   "source": [
    "# Delete rows with column-one zip codes that are not in CA, ie greater than 96162\n",
    "zip_3.drop(zip_3[zip_3.zipcode_1 > 96162].index, inplace = True)"
   ]
  },
  {
   "cell_type": "code",
   "execution_count": 61,
   "id": "14a75546",
   "metadata": {},
   "outputs": [
    {
     "data": {
      "text/plain": [
       "(6579, 3)"
      ]
     },
     "execution_count": 61,
     "metadata": {},
     "output_type": "execute_result"
    }
   ],
   "source": [
    "zip_3.shape"
   ]
  },
  {
   "cell_type": "code",
   "execution_count": 62,
   "id": "e196753f",
   "metadata": {},
   "outputs": [
    {
     "data": {
      "text/html": [
       "<div>\n",
       "<style scoped>\n",
       "    .dataframe tbody tr th:only-of-type {\n",
       "        vertical-align: middle;\n",
       "    }\n",
       "\n",
       "    .dataframe tbody tr th {\n",
       "        vertical-align: top;\n",
       "    }\n",
       "\n",
       "    .dataframe thead th {\n",
       "        text-align: right;\n",
       "    }\n",
       "</style>\n",
       "<table border=\"1\" class=\"dataframe\">\n",
       "  <thead>\n",
       "    <tr style=\"text-align: right;\">\n",
       "      <th></th>\n",
       "      <th>zipcode_1</th>\n",
       "      <th>zipcode_2</th>\n",
       "      <th>distance</th>\n",
       "    </tr>\n",
       "  </thead>\n",
       "  <tbody>\n",
       "    <tr>\n",
       "      <th>0</th>\n",
       "      <td>95968</td>\n",
       "      <td>95722</td>\n",
       "      <td>40.378114</td>\n",
       "    </tr>\n",
       "    <tr>\n",
       "      <th>1</th>\n",
       "      <td>95968</td>\n",
       "      <td>95659</td>\n",
       "      <td>40.985276</td>\n",
       "    </tr>\n",
       "    <tr>\n",
       "      <th>2</th>\n",
       "      <td>95968</td>\n",
       "      <td>95736</td>\n",
       "      <td>41.170377</td>\n",
       "    </tr>\n",
       "    <tr>\n",
       "      <th>3</th>\n",
       "      <td>95968</td>\n",
       "      <td>95936</td>\n",
       "      <td>41.202711</td>\n",
       "    </tr>\n",
       "    <tr>\n",
       "      <th>4</th>\n",
       "      <td>95968</td>\n",
       "      <td>95714</td>\n",
       "      <td>41.330279</td>\n",
       "    </tr>\n",
       "  </tbody>\n",
       "</table>\n",
       "</div>"
      ],
      "text/plain": [
       "   zipcode_1  zipcode_2   distance\n",
       "0      95968      95722  40.378114\n",
       "1      95968      95659  40.985276\n",
       "2      95968      95736  41.170377\n",
       "3      95968      95936  41.202711\n",
       "4      95968      95714  41.330279"
      ]
     },
     "execution_count": 62,
     "metadata": {},
     "output_type": "execute_result"
    }
   ],
   "source": [
    "zip_3.head()"
   ]
  },
  {
   "cell_type": "code",
   "execution_count": 63,
   "id": "68e3cda4",
   "metadata": {},
   "outputs": [],
   "source": [
    "# Export to csv without index and header\n",
    "\n",
    "zip_3.to_csv(\"xad_clean.csv\", header=False, index=False)"
   ]
  },
  {
   "cell_type": "code",
   "execution_count": 64,
   "id": "254bdfbe",
   "metadata": {},
   "outputs": [],
   "source": [
    "# Export dataframe to JSON \n",
    "\n",
    "zip_3.to_json('xad_clean.json', orient='records')"
   ]
  },
  {
   "cell_type": "markdown",
   "id": "8c8479ea",
   "metadata": {},
   "source": [
    "## Merge CSV Files"
   ]
  },
  {
   "cell_type": "code",
   "execution_count": 65,
   "id": "96351a34",
   "metadata": {},
   "outputs": [],
   "source": [
    "# Merge csv files\n",
    "\n",
    "# https://www.freecodecamp.org/news/how-to-combine-multiple-csv-files-with-8-lines-of-code-265183e0854/\n",
    "\n",
    "import os\n",
    "import glob"
   ]
  },
  {
   "cell_type": "code",
   "execution_count": 68,
   "id": "9ef4e4e7",
   "metadata": {},
   "outputs": [
    {
     "data": {
      "text/html": [
       "<div>\n",
       "<style scoped>\n",
       "    .dataframe tbody tr th:only-of-type {\n",
       "        vertical-align: middle;\n",
       "    }\n",
       "\n",
       "    .dataframe tbody tr th {\n",
       "        vertical-align: top;\n",
       "    }\n",
       "\n",
       "    .dataframe thead th {\n",
       "        text-align: right;\n",
       "    }\n",
       "</style>\n",
       "<table border=\"1\" class=\"dataframe\">\n",
       "  <thead>\n",
       "    <tr style=\"text-align: right;\">\n",
       "      <th></th>\n",
       "      <th>91316</th>\n",
       "      <th>91335</th>\n",
       "      <th>3.1203821808121197</th>\n",
       "      <th>95968</th>\n",
       "      <th>95722</th>\n",
       "      <th>40.3781135036239</th>\n",
       "      <th>90001</th>\n",
       "      <th>90255</th>\n",
       "      <th>1.87282140474766</th>\n",
       "    </tr>\n",
       "  </thead>\n",
       "  <tbody>\n",
       "    <tr>\n",
       "      <th>0</th>\n",
       "      <td>91316.0</td>\n",
       "      <td>91405.0</td>\n",
       "      <td>4.746460</td>\n",
       "      <td>NaN</td>\n",
       "      <td>NaN</td>\n",
       "      <td>NaN</td>\n",
       "      <td>NaN</td>\n",
       "      <td>NaN</td>\n",
       "      <td>NaN</td>\n",
       "    </tr>\n",
       "    <tr>\n",
       "      <th>1</th>\n",
       "      <td>91316.0</td>\n",
       "      <td>91303.0</td>\n",
       "      <td>5.546652</td>\n",
       "      <td>NaN</td>\n",
       "      <td>NaN</td>\n",
       "      <td>NaN</td>\n",
       "      <td>NaN</td>\n",
       "      <td>NaN</td>\n",
       "      <td>NaN</td>\n",
       "    </tr>\n",
       "    <tr>\n",
       "      <th>2</th>\n",
       "      <td>91316.0</td>\n",
       "      <td>91324.0</td>\n",
       "      <td>5.743113</td>\n",
       "      <td>NaN</td>\n",
       "      <td>NaN</td>\n",
       "      <td>NaN</td>\n",
       "      <td>NaN</td>\n",
       "      <td>NaN</td>\n",
       "      <td>NaN</td>\n",
       "    </tr>\n",
       "    <tr>\n",
       "      <th>3</th>\n",
       "      <td>91316.0</td>\n",
       "      <td>91367.0</td>\n",
       "      <td>5.850308</td>\n",
       "      <td>NaN</td>\n",
       "      <td>NaN</td>\n",
       "      <td>NaN</td>\n",
       "      <td>NaN</td>\n",
       "      <td>NaN</td>\n",
       "      <td>NaN</td>\n",
       "    </tr>\n",
       "    <tr>\n",
       "      <th>4</th>\n",
       "      <td>91316.0</td>\n",
       "      <td>90290.0</td>\n",
       "      <td>6.807840</td>\n",
       "      <td>NaN</td>\n",
       "      <td>NaN</td>\n",
       "      <td>NaN</td>\n",
       "      <td>NaN</td>\n",
       "      <td>NaN</td>\n",
       "      <td>NaN</td>\n",
       "    </tr>\n",
       "    <tr>\n",
       "      <th>...</th>\n",
       "      <td>...</td>\n",
       "      <td>...</td>\n",
       "      <td>...</td>\n",
       "      <td>...</td>\n",
       "      <td>...</td>\n",
       "      <td>...</td>\n",
       "      <td>...</td>\n",
       "      <td>...</td>\n",
       "      <td>...</td>\n",
       "    </tr>\n",
       "    <tr>\n",
       "      <th>23435</th>\n",
       "      <td>NaN</td>\n",
       "      <td>NaN</td>\n",
       "      <td>NaN</td>\n",
       "      <td>NaN</td>\n",
       "      <td>NaN</td>\n",
       "      <td>NaN</td>\n",
       "      <td>91311.0</td>\n",
       "      <td>91748.0</td>\n",
       "      <td>45.804456</td>\n",
       "    </tr>\n",
       "    <tr>\n",
       "      <th>23436</th>\n",
       "      <td>NaN</td>\n",
       "      <td>NaN</td>\n",
       "      <td>NaN</td>\n",
       "      <td>NaN</td>\n",
       "      <td>NaN</td>\n",
       "      <td>NaN</td>\n",
       "      <td>91311.0</td>\n",
       "      <td>93252.0</td>\n",
       "      <td>46.472639</td>\n",
       "    </tr>\n",
       "    <tr>\n",
       "      <th>23437</th>\n",
       "      <td>NaN</td>\n",
       "      <td>NaN</td>\n",
       "      <td>NaN</td>\n",
       "      <td>NaN</td>\n",
       "      <td>NaN</td>\n",
       "      <td>NaN</td>\n",
       "      <td>91311.0</td>\n",
       "      <td>91773.0</td>\n",
       "      <td>47.034970</td>\n",
       "    </tr>\n",
       "    <tr>\n",
       "      <th>23438</th>\n",
       "      <td>NaN</td>\n",
       "      <td>NaN</td>\n",
       "      <td>NaN</td>\n",
       "      <td>NaN</td>\n",
       "      <td>NaN</td>\n",
       "      <td>NaN</td>\n",
       "      <td>91311.0</td>\n",
       "      <td>90740.0</td>\n",
       "      <td>47.754886</td>\n",
       "    </tr>\n",
       "    <tr>\n",
       "      <th>23439</th>\n",
       "      <td>NaN</td>\n",
       "      <td>NaN</td>\n",
       "      <td>NaN</td>\n",
       "      <td>NaN</td>\n",
       "      <td>NaN</td>\n",
       "      <td>NaN</td>\n",
       "      <td>91311.0</td>\n",
       "      <td>92801.0</td>\n",
       "      <td>48.454488</td>\n",
       "    </tr>\n",
       "  </tbody>\n",
       "</table>\n",
       "<p>67647 rows × 9 columns</p>\n",
       "</div>"
      ],
      "text/plain": [
       "         91316    91335  3.1203821808121197  95968  95722  40.3781135036239  \\\n",
       "0      91316.0  91405.0            4.746460    NaN    NaN               NaN   \n",
       "1      91316.0  91303.0            5.546652    NaN    NaN               NaN   \n",
       "2      91316.0  91324.0            5.743113    NaN    NaN               NaN   \n",
       "3      91316.0  91367.0            5.850308    NaN    NaN               NaN   \n",
       "4      91316.0  90290.0            6.807840    NaN    NaN               NaN   \n",
       "...        ...      ...                 ...    ...    ...               ...   \n",
       "23435      NaN      NaN                 NaN    NaN    NaN               NaN   \n",
       "23436      NaN      NaN                 NaN    NaN    NaN               NaN   \n",
       "23437      NaN      NaN                 NaN    NaN    NaN               NaN   \n",
       "23438      NaN      NaN                 NaN    NaN    NaN               NaN   \n",
       "23439      NaN      NaN                 NaN    NaN    NaN               NaN   \n",
       "\n",
       "         90001    90255  1.87282140474766  \n",
       "0          NaN      NaN               NaN  \n",
       "1          NaN      NaN               NaN  \n",
       "2          NaN      NaN               NaN  \n",
       "3          NaN      NaN               NaN  \n",
       "4          NaN      NaN               NaN  \n",
       "...        ...      ...               ...  \n",
       "23435  91311.0  91748.0         45.804456  \n",
       "23436  91311.0  93252.0         46.472639  \n",
       "23437  91311.0  91773.0         47.034970  \n",
       "23438  91311.0  90740.0         47.754886  \n",
       "23439  91311.0  92801.0         48.454488  \n",
       "\n",
       "[67647 rows x 9 columns]"
      ]
     },
     "execution_count": 68,
     "metadata": {},
     "output_type": "execute_result"
    }
   ],
   "source": [
    "# Use glob to match the pattern ‘csv’\n",
    "# FAIL\n",
    "\n",
    "extension = 'csv'\n",
    "all_filenames = [i for i in glob.glob('*.{}'.format(extension))]\n",
    "\n",
    "#combine all files in the list\n",
    "combined_csv = pd.concat([pd.read_csv(f) for f in all_filenames ])\n",
    "\n",
    "combined_csv"
   ]
  },
  {
   "cell_type": "code",
   "execution_count": null,
   "id": "5405f045",
   "metadata": {},
   "outputs": [],
   "source": [
    "#export to csv\n",
    "combined_csv.to_csv( \"dist_clean_all.csv\", index=False)"
   ]
  },
  {
   "cell_type": "code",
   "execution_count": 67,
   "id": "6eaf41d8",
   "metadata": {},
   "outputs": [],
   "source": [
    "combined_csv.to_json('dist_clean_all.json', orient='records')"
   ]
  },
  {
   "cell_type": "code",
   "execution_count": 77,
   "id": "3ee1596f",
   "metadata": {},
   "outputs": [
    {
     "ename": "TypeError",
     "evalue": "concat() got an unexpected keyword argument 'columns'",
     "output_type": "error",
     "traceback": [
      "\u001b[0;31m---------------------------------------------------------------------------\u001b[0m",
      "\u001b[0;31mTypeError\u001b[0m                                 Traceback (most recent call last)",
      "\u001b[0;32m<ipython-input-77-ed688a79f285>\u001b[0m in \u001b[0;36m<module>\u001b[0;34m\u001b[0m\n\u001b[1;32m      5\u001b[0m \u001b[0;34m\u001b[0m\u001b[0m\n\u001b[1;32m      6\u001b[0m \u001b[0;31m# Combine all three CSV files using the concat method\u001b[0m\u001b[0;34m\u001b[0m\u001b[0;34m\u001b[0m\u001b[0;34m\u001b[0m\u001b[0m\n\u001b[0;32m----> 7\u001b[0;31m \u001b[0ma_b_c\u001b[0m \u001b[0;34m=\u001b[0m \u001b[0mpd\u001b[0m\u001b[0;34m.\u001b[0m\u001b[0mconcat\u001b[0m\u001b[0;34m(\u001b[0m\u001b[0;34m[\u001b[0m\u001b[0mpd\u001b[0m\u001b[0;34m.\u001b[0m\u001b[0mread_csv\u001b[0m\u001b[0;34m(\u001b[0m\u001b[0mf\u001b[0m\u001b[0;34m)\u001b[0m \u001b[0;32mfor\u001b[0m \u001b[0mf\u001b[0m \u001b[0;32min\u001b[0m \u001b[0mfiles\u001b[0m\u001b[0;34m]\u001b[0m\u001b[0;34m,\u001b[0m \u001b[0mcolumns\u001b[0m\u001b[0;34m=\u001b[0m\u001b[0;34m[\u001b[0m\u001b[0;34m'z1'\u001b[0m\u001b[0;34m,\u001b[0m \u001b[0;34m'z2'\u001b[0m\u001b[0;34m,\u001b[0m \u001b[0;34m'd'\u001b[0m\u001b[0;34m]\u001b[0m\u001b[0;34m,\u001b[0m \u001b[0mjoin\u001b[0m \u001b[0;34m=\u001b[0m \u001b[0;34m'inner'\u001b[0m\u001b[0;34m)\u001b[0m\u001b[0;34m\u001b[0m\u001b[0;34m\u001b[0m\u001b[0m\n\u001b[0m\u001b[1;32m      8\u001b[0m \u001b[0;34m\u001b[0m\u001b[0m\n\u001b[1;32m      9\u001b[0m \u001b[0;31m# Export to csv\u001b[0m\u001b[0;34m\u001b[0m\u001b[0;34m\u001b[0m\u001b[0;34m\u001b[0m\u001b[0m\n",
      "\u001b[0;31mTypeError\u001b[0m: concat() got an unexpected keyword argument 'columns'"
     ]
    }
   ],
   "source": [
    "#ATTEMPT #2 FAIL\n",
    "# https://www.educative.io/edpresso/how-to-combine-multiple-csv-files-in-python\n",
    "\n",
    "files = [\"xab_clean.csv\", \"xac_clean.csv\", \"xad_clean.csv\"]\n",
    "\n",
    "# Combine all three CSV files using the concat method\n",
    "a_b_c = pd.concat([pd.read_csv(f) for f in files], columns=['z1', 'z2', 'd'], join = 'inner')\n",
    "\n",
    "# Export to csv\n",
    "a_b_c.to_csv( \"ABC.csv\", index=False, encoding='utf-8-sig')\n",
    "data = pd.read_csv(\"ABC.csv\") \n",
    "print(data)"
   ]
  },
  {
   "cell_type": "code",
   "execution_count": 78,
   "id": "c3825e1e",
   "metadata": {},
   "outputs": [],
   "source": [
    "# ATTEMPT #3 SUCCESS\n",
    "\n",
    "CHUNK_SIZE = 50000\n",
    "csv_file_list = [\"xab_clean.csv\", \"xac_clean.csv\", \"xad_clean.csv\"]\n",
    "output_file = \"./dist_clean_all.csv\"\n",
    "\n",
    "for csv_file_name in csv_file_list:\n",
    "    chunk_container = pd.read_csv(csv_file_name, chunksize=CHUNK_SIZE)\n",
    "    for chunk in chunk_container:\n",
    "        chunk.to_csv(output_file, mode=\"a\", index=False)\n",
    "\n",
    "# https://stackoverflow.com/questions/56494140/how-do-i-combine-large-csv-files-in-python        "
   ]
  },
  {
   "cell_type": "markdown",
   "id": "663e8ef9",
   "metadata": {},
   "source": [
    "## Convert merged CSV into JSON"
   ]
  },
  {
   "cell_type": "code",
   "execution_count": 79,
   "id": "b6d31196",
   "metadata": {},
   "outputs": [],
   "source": [
    "# Create dataframe with pandas\n",
    "mergedJSON = pd.read_csv(\"./dist_clean_all.csv\")\n",
    "\n",
    "# Add column names\n",
    "mergedJSON.columns = ['z1', 'z2', 'd']"
   ]
  },
  {
   "cell_type": "code",
   "execution_count": 80,
   "id": "925cd908",
   "metadata": {},
   "outputs": [],
   "source": [
    "# Export dataframe to JSON \n",
    "\n",
    "mergedJSON.to_json('dist_clean_all.json', orient='records')"
   ]
  },
  {
   "cell_type": "code",
   "execution_count": null,
   "id": "5ff15257",
   "metadata": {},
   "outputs": [],
   "source": []
  }
 ],
 "metadata": {
  "kernelspec": {
   "display_name": "Python 3.8.2 64-bit",
   "language": "python",
   "name": "python38264bit4bd2b6f7f60940ce9b436b94eeace1e8"
  },
  "language_info": {
   "codemirror_mode": {
    "name": "ipython",
    "version": 3
   },
   "file_extension": ".py",
   "mimetype": "text/x-python",
   "name": "python",
   "nbconvert_exporter": "python",
   "pygments_lexer": "ipython3",
   "version": "3.8.2"
  }
 },
 "nbformat": 4,
 "nbformat_minor": 5
}
