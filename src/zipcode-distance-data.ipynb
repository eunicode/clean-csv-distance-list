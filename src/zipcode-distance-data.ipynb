{
 "cells": [
  {
   "cell_type": "markdown",
   "id": "b5af61aa",
   "metadata": {},
   "source": [
    "# Clean zipcode distances csv and export as JSON"
   ]
  },
  {
   "cell_type": "markdown",
   "id": "cf70c5e2",
   "metadata": {},
   "source": [
    "## Imports"
   ]
  },
  {
   "cell_type": "code",
   "execution_count": 1,
   "id": "844c03ab",
   "metadata": {},
   "outputs": [],
   "source": [
    "import pandas as pd"
   ]
  },
  {
   "cell_type": "markdown",
   "id": "fb040259",
   "metadata": {},
   "source": [
    "## Practice"
   ]
  },
  {
   "cell_type": "code",
   "execution_count": 8,
   "id": "aed85017",
   "metadata": {},
   "outputs": [],
   "source": [
    "car_data = pd.DataFrame({\n",
    "    \"Car make\": 'Ferrari',\n",
    "    \"Colour\": 'red'\n",
    "}, index=[0])"
   ]
  },
  {
   "cell_type": "code",
   "execution_count": 9,
   "id": "c1a069e8",
   "metadata": {},
   "outputs": [
    {
     "data": {
      "text/html": [
       "<div>\n",
       "<style scoped>\n",
       "    .dataframe tbody tr th:only-of-type {\n",
       "        vertical-align: middle;\n",
       "    }\n",
       "\n",
       "    .dataframe tbody tr th {\n",
       "        vertical-align: top;\n",
       "    }\n",
       "\n",
       "    .dataframe thead th {\n",
       "        text-align: right;\n",
       "    }\n",
       "</style>\n",
       "<table border=\"1\" class=\"dataframe\">\n",
       "  <thead>\n",
       "    <tr style=\"text-align: right;\">\n",
       "      <th></th>\n",
       "      <th>Car make</th>\n",
       "      <th>Colour</th>\n",
       "    </tr>\n",
       "  </thead>\n",
       "  <tbody>\n",
       "    <tr>\n",
       "      <th>0</th>\n",
       "      <td>Ferrari</td>\n",
       "      <td>red</td>\n",
       "    </tr>\n",
       "  </tbody>\n",
       "</table>\n",
       "</div>"
      ],
      "text/plain": [
       "  Car make Colour\n",
       "0  Ferrari    red"
      ]
     },
     "execution_count": 9,
     "metadata": {},
     "output_type": "execute_result"
    }
   ],
   "source": [
    "car_data"
   ]
  },
  {
   "cell_type": "markdown",
   "id": "941f3e5a",
   "metadata": {},
   "source": [
    "## Load data"
   ]
  },
  {
   "cell_type": "code",
   "execution_count": 22,
   "id": "2d4d4142",
   "metadata": {},
   "outputs": [],
   "source": [
    "# Create dataframe with pandas\n",
    "zipcode_dist_data_1 = pd.read_csv(\"./data/xab.csv\")"
   ]
  },
  {
   "cell_type": "markdown",
   "id": "1fea2a0b",
   "metadata": {},
   "source": [
    "## Explore data"
   ]
  },
  {
   "cell_type": "code",
   "execution_count": 23,
   "id": "10cdcb26",
   "metadata": {},
   "outputs": [
    {
     "data": {
      "text/plain": [
       "(249999, 3)"
      ]
     },
     "execution_count": 23,
     "metadata": {},
     "output_type": "execute_result"
    }
   ],
   "source": [
    "# Number of (rows, columns)\n",
    "zipcode_dist_data_1.shape"
   ]
  },
  {
   "cell_type": "code",
   "execution_count": 24,
   "id": "e25f5c3a",
   "metadata": {},
   "outputs": [
    {
     "data": {
      "text/html": [
       "<div>\n",
       "<style scoped>\n",
       "    .dataframe tbody tr th:only-of-type {\n",
       "        vertical-align: middle;\n",
       "    }\n",
       "\n",
       "    .dataframe tbody tr th {\n",
       "        vertical-align: top;\n",
       "    }\n",
       "\n",
       "    .dataframe thead th {\n",
       "        text-align: right;\n",
       "    }\n",
       "</style>\n",
       "<table border=\"1\" class=\"dataframe\">\n",
       "  <thead>\n",
       "    <tr style=\"text-align: right;\">\n",
       "      <th></th>\n",
       "      <th>77971</th>\n",
       "      <th>77954</th>\n",
       "      <th>49.4699443579075</th>\n",
       "    </tr>\n",
       "  </thead>\n",
       "  <tbody>\n",
       "    <tr>\n",
       "      <th>0</th>\n",
       "      <td>77971</td>\n",
       "      <td>77434</td>\n",
       "      <td>49.742710</td>\n",
       "    </tr>\n",
       "    <tr>\n",
       "      <th>1</th>\n",
       "      <td>77973</td>\n",
       "      <td>77990</td>\n",
       "      <td>4.935484</td>\n",
       "    </tr>\n",
       "    <tr>\n",
       "      <th>2</th>\n",
       "      <td>77973</td>\n",
       "      <td>77951</td>\n",
       "      <td>7.573285</td>\n",
       "    </tr>\n",
       "    <tr>\n",
       "      <th>3</th>\n",
       "      <td>77973</td>\n",
       "      <td>77905</td>\n",
       "      <td>13.960610</td>\n",
       "    </tr>\n",
       "    <tr>\n",
       "      <th>4</th>\n",
       "      <td>77973</td>\n",
       "      <td>77977</td>\n",
       "      <td>15.010409</td>\n",
       "    </tr>\n",
       "    <tr>\n",
       "      <th>5</th>\n",
       "      <td>77973</td>\n",
       "      <td>77960</td>\n",
       "      <td>16.586468</td>\n",
       "    </tr>\n",
       "    <tr>\n",
       "      <th>6</th>\n",
       "      <td>77973</td>\n",
       "      <td>78377</td>\n",
       "      <td>17.464803</td>\n",
       "    </tr>\n",
       "    <tr>\n",
       "      <th>7</th>\n",
       "      <td>77973</td>\n",
       "      <td>77950</td>\n",
       "      <td>17.940617</td>\n",
       "    </tr>\n",
       "    <tr>\n",
       "      <th>8</th>\n",
       "      <td>77973</td>\n",
       "      <td>77901</td>\n",
       "      <td>18.071969</td>\n",
       "    </tr>\n",
       "    <tr>\n",
       "      <th>9</th>\n",
       "      <td>77973</td>\n",
       "      <td>77988</td>\n",
       "      <td>20.998217</td>\n",
       "    </tr>\n",
       "  </tbody>\n",
       "</table>\n",
       "</div>"
      ],
      "text/plain": [
       "   77971  77954  49.4699443579075\n",
       "0  77971  77434         49.742710\n",
       "1  77973  77990          4.935484\n",
       "2  77973  77951          7.573285\n",
       "3  77973  77905         13.960610\n",
       "4  77973  77977         15.010409\n",
       "5  77973  77960         16.586468\n",
       "6  77973  78377         17.464803\n",
       "7  77973  77950         17.940617\n",
       "8  77973  77901         18.071969\n",
       "9  77973  77988         20.998217"
      ]
     },
     "execution_count": 24,
     "metadata": {},
     "output_type": "execute_result"
    }
   ],
   "source": [
    "# Preview table\n",
    "zipcode_dist_data_1.head(10)"
   ]
  },
  {
   "cell_type": "code",
   "execution_count": 25,
   "id": "5ed33dea",
   "metadata": {},
   "outputs": [],
   "source": [
    "# Add column names\n",
    "zipcode_dist_data_1.columns = ['zipcode_1', 'zipcode_2', 'distance']"
   ]
  },
  {
   "cell_type": "code",
   "execution_count": 26,
   "id": "c242cf93",
   "metadata": {},
   "outputs": [
    {
     "name": "stdout",
     "output_type": "stream",
     "text": [
      "<class 'pandas.core.frame.DataFrame'>\n",
      "RangeIndex: 249999 entries, 0 to 249998\n",
      "Data columns (total 3 columns):\n",
      " #   Column     Non-Null Count   Dtype  \n",
      "---  ------     --------------   -----  \n",
      " 0   zipcode_1  249999 non-null  int64  \n",
      " 1   zipcode_2  249999 non-null  int64  \n",
      " 2   distance   249999 non-null  float64\n",
      "dtypes: float64(1), int64(2)\n",
      "memory usage: 5.7 MB\n"
     ]
    }
   ],
   "source": [
    "# Look at column info\n",
    "zipcode_dist_data_1.info()"
   ]
  },
  {
   "cell_type": "code",
   "execution_count": 27,
   "id": "22695459",
   "metadata": {},
   "outputs": [
    {
     "data": {
      "text/plain": [
       "zipcode_1    0\n",
       "zipcode_2    0\n",
       "distance     0\n",
       "dtype: int64"
      ]
     },
     "execution_count": 27,
     "metadata": {},
     "output_type": "execute_result"
    }
   ],
   "source": [
    "# Check for missing values\n",
    "zipcode_dist_data_1.isna().sum()"
   ]
  },
  {
   "cell_type": "code",
   "execution_count": 28,
   "id": "b94a8719",
   "metadata": {},
   "outputs": [
    {
     "data": {
      "text/html": [
       "<div>\n",
       "<style scoped>\n",
       "    .dataframe tbody tr th:only-of-type {\n",
       "        vertical-align: middle;\n",
       "    }\n",
       "\n",
       "    .dataframe tbody tr th {\n",
       "        vertical-align: top;\n",
       "    }\n",
       "\n",
       "    .dataframe thead th {\n",
       "        text-align: right;\n",
       "    }\n",
       "</style>\n",
       "<table border=\"1\" class=\"dataframe\">\n",
       "  <thead>\n",
       "    <tr style=\"text-align: right;\">\n",
       "      <th></th>\n",
       "      <th>zipcode_1</th>\n",
       "      <th>zipcode_2</th>\n",
       "      <th>distance</th>\n",
       "    </tr>\n",
       "  </thead>\n",
       "  <tbody>\n",
       "    <tr>\n",
       "      <th>0</th>\n",
       "      <td>77971</td>\n",
       "      <td>77434</td>\n",
       "      <td>49.742710</td>\n",
       "    </tr>\n",
       "    <tr>\n",
       "      <th>1</th>\n",
       "      <td>77973</td>\n",
       "      <td>77990</td>\n",
       "      <td>4.935484</td>\n",
       "    </tr>\n",
       "    <tr>\n",
       "      <th>2</th>\n",
       "      <td>77973</td>\n",
       "      <td>77951</td>\n",
       "      <td>7.573285</td>\n",
       "    </tr>\n",
       "    <tr>\n",
       "      <th>3</th>\n",
       "      <td>77973</td>\n",
       "      <td>77905</td>\n",
       "      <td>13.960610</td>\n",
       "    </tr>\n",
       "    <tr>\n",
       "      <th>4</th>\n",
       "      <td>77973</td>\n",
       "      <td>77977</td>\n",
       "      <td>15.010409</td>\n",
       "    </tr>\n",
       "  </tbody>\n",
       "</table>\n",
       "</div>"
      ],
      "text/plain": [
       "   zipcode_1  zipcode_2   distance\n",
       "0      77971      77434  49.742710\n",
       "1      77973      77990   4.935484\n",
       "2      77973      77951   7.573285\n",
       "3      77973      77905  13.960610\n",
       "4      77973      77977  15.010409"
      ]
     },
     "execution_count": 28,
     "metadata": {},
     "output_type": "execute_result"
    }
   ],
   "source": [
    "# Preview table\n",
    "zipcode_dist_data_1.head()"
   ]
  },
  {
   "cell_type": "markdown",
   "id": "e5650b0c",
   "metadata": {},
   "source": [
    "## Clean data"
   ]
  },
  {
   "cell_type": "code",
   "execution_count": 29,
   "id": "c69a5eba",
   "metadata": {},
   "outputs": [],
   "source": [
    "# Delete rows with column-one zip codes that are not in CA, ie greater than 90001\n",
    "zipcode_dist_data_1.drop(zipcode_dist_data_1[zipcode_dist_data_1.zipcode_1 < 90001].index, inplace = True)\n",
    "\n",
    "# https://stackoverflow.com/questions/13851535/how-to-delete-rows-from-a-pandas-dataframe-based-on-a-conditional-expression\n",
    "# https://www.geeksforgeeks.org/drop-rows-from-the-dataframe-based-on-certain-condition-applied-on-a-column/\n",
    "\"\"\"\n",
    "https://www.freecodecamp.org/news/drop-list-of-rows-from-pandas-dataframe/\n",
    "df.drop([5,6], axis=0, inplace=True)\n",
    "[5,6] is the index of the rows you want to delete\n",
    "axis=0 denotes that rows should be deleted from the dataframe\n",
    "inplace=True performs the drop operation in the same dataframe\n",
    "\"\"\""
   ]
  },
  {
   "cell_type": "code",
   "execution_count": 30,
   "id": "d2acaf6c",
   "metadata": {},
   "outputs": [
    {
     "data": {
      "text/plain": [
       "(84933, 3)"
      ]
     },
     "execution_count": 30,
     "metadata": {},
     "output_type": "execute_result"
    }
   ],
   "source": [
    "# Number of (rows, columns)\n",
    "zipcode_dist_data_1.shape"
   ]
  },
  {
   "cell_type": "code",
   "execution_count": 31,
   "id": "7ffb15e9",
   "metadata": {},
   "outputs": [],
   "source": [
    "# Delete rows with column-two zip codes that are not vendor zip codes\n",
    "vendorZips = [\n",
    "  80132, 80301, 80465, 80501, 80907, 85395, 90010, 90016, 90042, 90048, 90201,\n",
    "  90230, 90241, 90245, 90249, 90255, 90266, 90290, 90301, 90303, 90401, 90403,\n",
    "  90504, 90505, 90605, 90620, 90623, 90638, 90650, 90660, 90701, 90712, 90713,\n",
    "  90731, 90740, 90745, 90746, 90755, 90802, 90804, 90808, 91001, 91006, 91011,\n",
    "  91016, 91023, 91025, 91040, 91042, 91101, 91103, 91105, 91106, 91107, 91203,\n",
    "  91303, 91310, 91316, 91324, 91335, 91342, 91344, 91350, 91351, 91355, 91360,\n",
    "  91367, 91384, 91387, 91390, 91405, 91502, 91504, 91604, 91702, 91709, 91710,\n",
    "  91719, 91722, 91730, 91731, 91739, 91741, 91744, 91748, 91754, 91759, 91761,\n",
    "  91767, 91773, 91784, 91786, 91791, 91801, 91901, 91906, 91910, 91916, 91948,\n",
    "  91962, 91977, 92009, 92020, 92024, 92026, 92027, 92028, 92036, 92054, 92056,\n",
    "  92064, 92065, 92069, 92075, 92083, 92084, 92109, 92110, 92111, 92115, 92126,\n",
    "  92127, 92128, 92154, 92173, 92220, 92223, 92234, 92236, 92243, 92252, 92253,\n",
    "  92260, 92284, 92305, 92314, 92315, 92317, 92321, 92325, 92333, 92335, 92336,\n",
    "  92339, 92345, 92351, 92352, 92356, 92358, 92359, 92371, 92373, 92376, 92378,\n",
    "  92382, 92391, 92392, 92397, 92399, 92401, 92404, 92405, 92408, 92410, 92449,\n",
    "  92503, 92506, 92509, 92530, 92539, 92543, 92544, 92545, 92549, 92553, 92561,\n",
    "  92562, 92570, 92571, 92590, 92592, 92595, 92624, 92626, 92630, 92647, 92648,\n",
    "  92664, 92665, 92676, 92678, 92680, 92685, 92688, 92706, 92708, 92714, 92782,\n",
    "  92801, 92802, 92805, 92806, 92879, 92886, 93001, 93003, 93010, 93015, 93022,\n",
    "  93023, 93036, 93060, 93065, 93101, 93105, 93117, 93210, 93222, 93225, 93243,\n",
    "  93252, 93254, 93304, 93306, 93401, 93422, 93436, 93441, 93446, 93454, 93460,\n",
    "  93510, 93532, 93534, 93535, 93543, 93551, 93552, 93553, 93561, 93591, 93637,\n",
    "  93930, 93940, 95020, 95422, 95834, 97230, 97478, 98001, 98002, 98003, 98004,\n",
    "  98008, 98012, 98026, 98031, 98032, 98033, 98037, 98042, 98055, 98072, 98148,\n",
    "  98199, 98223, 98272, 98366, 98375, 98383, 98407, 98424, 98444, 98467,\n",
    "]\n",
    "\n",
    "zipcode_dist_data_1 = zipcode_dist_data_1.query(\"zipcode_2 in @vendorZips\")\n",
    "\n",
    "# https://stackoverflow.com/questions/19960077/how-to-filter-pandas-dataframe-using-in-and-not-in-like-in-sql\n",
    "# https://stackoverflow.com/questions/43269548/pandas-how-to-remove-rows-from-a-dataframe-based-on-a-list"
   ]
  },
  {
   "cell_type": "code",
   "execution_count": 32,
   "id": "594bb871",
   "metadata": {},
   "outputs": [
    {
     "data": {
      "text/plain": [
       "(23441, 3)"
      ]
     },
     "execution_count": 32,
     "metadata": {},
     "output_type": "execute_result"
    }
   ],
   "source": [
    "# Number of (rows, columns)\n",
    "zipcode_dist_data_1.shape"
   ]
  },
  {
   "cell_type": "code",
   "execution_count": 33,
   "id": "07f70278",
   "metadata": {},
   "outputs": [
    {
     "data": {
      "text/html": [
       "<div>\n",
       "<style scoped>\n",
       "    .dataframe tbody tr th:only-of-type {\n",
       "        vertical-align: middle;\n",
       "    }\n",
       "\n",
       "    .dataframe tbody tr th {\n",
       "        vertical-align: top;\n",
       "    }\n",
       "\n",
       "    .dataframe thead th {\n",
       "        text-align: right;\n",
       "    }\n",
       "</style>\n",
       "<table border=\"1\" class=\"dataframe\">\n",
       "  <thead>\n",
       "    <tr style=\"text-align: right;\">\n",
       "      <th></th>\n",
       "      <th>zipcode_1</th>\n",
       "      <th>zipcode_2</th>\n",
       "      <th>distance</th>\n",
       "    </tr>\n",
       "  </thead>\n",
       "  <tbody>\n",
       "    <tr>\n",
       "      <th>165068</th>\n",
       "      <td>90001</td>\n",
       "      <td>90255</td>\n",
       "      <td>1.872821</td>\n",
       "    </tr>\n",
       "    <tr>\n",
       "      <th>165085</th>\n",
       "      <td>90001</td>\n",
       "      <td>90201</td>\n",
       "      <td>4.484633</td>\n",
       "    </tr>\n",
       "    <tr>\n",
       "      <th>165092</th>\n",
       "      <td>90001</td>\n",
       "      <td>90303</td>\n",
       "      <td>5.240103</td>\n",
       "    </tr>\n",
       "    <tr>\n",
       "      <th>165103</th>\n",
       "      <td>90001</td>\n",
       "      <td>90249</td>\n",
       "      <td>6.291307</td>\n",
       "    </tr>\n",
       "    <tr>\n",
       "      <th>165105</th>\n",
       "      <td>90001</td>\n",
       "      <td>90301</td>\n",
       "      <td>6.369897</td>\n",
       "    </tr>\n",
       "    <tr>\n",
       "      <th>165117</th>\n",
       "      <td>90001</td>\n",
       "      <td>90016</td>\n",
       "      <td>7.080508</td>\n",
       "    </tr>\n",
       "    <tr>\n",
       "      <th>165118</th>\n",
       "      <td>90001</td>\n",
       "      <td>90010</td>\n",
       "      <td>7.177897</td>\n",
       "    </tr>\n",
       "    <tr>\n",
       "      <th>165121</th>\n",
       "      <td>90001</td>\n",
       "      <td>90241</td>\n",
       "      <td>7.284691</td>\n",
       "    </tr>\n",
       "    <tr>\n",
       "      <th>165128</th>\n",
       "      <td>90001</td>\n",
       "      <td>90746</td>\n",
       "      <td>7.937149</td>\n",
       "    </tr>\n",
       "    <tr>\n",
       "      <th>165131</th>\n",
       "      <td>90001</td>\n",
       "      <td>91754</td>\n",
       "      <td>8.161111</td>\n",
       "    </tr>\n",
       "  </tbody>\n",
       "</table>\n",
       "</div>"
      ],
      "text/plain": [
       "        zipcode_1  zipcode_2  distance\n",
       "165068      90001      90255  1.872821\n",
       "165085      90001      90201  4.484633\n",
       "165092      90001      90303  5.240103\n",
       "165103      90001      90249  6.291307\n",
       "165105      90001      90301  6.369897\n",
       "165117      90001      90016  7.080508\n",
       "165118      90001      90010  7.177897\n",
       "165121      90001      90241  7.284691\n",
       "165128      90001      90746  7.937149\n",
       "165131      90001      91754  8.161111"
      ]
     },
     "execution_count": 33,
     "metadata": {},
     "output_type": "execute_result"
    }
   ],
   "source": [
    "# Preview table\n",
    "zipcode_dist_data_1.head(10)"
   ]
  },
  {
   "cell_type": "code",
   "execution_count": 35,
   "id": "221260d3",
   "metadata": {},
   "outputs": [
    {
     "data": {
      "text/html": [
       "<div>\n",
       "<style scoped>\n",
       "    .dataframe tbody tr th:only-of-type {\n",
       "        vertical-align: middle;\n",
       "    }\n",
       "\n",
       "    .dataframe tbody tr th {\n",
       "        vertical-align: top;\n",
       "    }\n",
       "\n",
       "    .dataframe thead th {\n",
       "        text-align: right;\n",
       "    }\n",
       "</style>\n",
       "<table border=\"1\" class=\"dataframe\">\n",
       "  <thead>\n",
       "    <tr style=\"text-align: right;\">\n",
       "      <th></th>\n",
       "      <th>zipcode_1</th>\n",
       "      <th>zipcode_2</th>\n",
       "      <th>distance</th>\n",
       "    </tr>\n",
       "  </thead>\n",
       "  <tbody>\n",
       "    <tr>\n",
       "      <th>0</th>\n",
       "      <td>90001</td>\n",
       "      <td>90255</td>\n",
       "      <td>1.872821</td>\n",
       "    </tr>\n",
       "    <tr>\n",
       "      <th>1</th>\n",
       "      <td>90001</td>\n",
       "      <td>90201</td>\n",
       "      <td>4.484633</td>\n",
       "    </tr>\n",
       "    <tr>\n",
       "      <th>2</th>\n",
       "      <td>90001</td>\n",
       "      <td>90303</td>\n",
       "      <td>5.240103</td>\n",
       "    </tr>\n",
       "    <tr>\n",
       "      <th>3</th>\n",
       "      <td>90001</td>\n",
       "      <td>90249</td>\n",
       "      <td>6.291307</td>\n",
       "    </tr>\n",
       "    <tr>\n",
       "      <th>4</th>\n",
       "      <td>90001</td>\n",
       "      <td>90301</td>\n",
       "      <td>6.369897</td>\n",
       "    </tr>\n",
       "    <tr>\n",
       "      <th>...</th>\n",
       "      <td>...</td>\n",
       "      <td>...</td>\n",
       "      <td>...</td>\n",
       "    </tr>\n",
       "    <tr>\n",
       "      <th>23436</th>\n",
       "      <td>91311</td>\n",
       "      <td>91748</td>\n",
       "      <td>45.804456</td>\n",
       "    </tr>\n",
       "    <tr>\n",
       "      <th>23437</th>\n",
       "      <td>91311</td>\n",
       "      <td>93252</td>\n",
       "      <td>46.472639</td>\n",
       "    </tr>\n",
       "    <tr>\n",
       "      <th>23438</th>\n",
       "      <td>91311</td>\n",
       "      <td>91773</td>\n",
       "      <td>47.034970</td>\n",
       "    </tr>\n",
       "    <tr>\n",
       "      <th>23439</th>\n",
       "      <td>91311</td>\n",
       "      <td>90740</td>\n",
       "      <td>47.754886</td>\n",
       "    </tr>\n",
       "    <tr>\n",
       "      <th>23440</th>\n",
       "      <td>91311</td>\n",
       "      <td>92801</td>\n",
       "      <td>48.454488</td>\n",
       "    </tr>\n",
       "  </tbody>\n",
       "</table>\n",
       "<p>23441 rows × 3 columns</p>\n",
       "</div>"
      ],
      "text/plain": [
       "       zipcode_1  zipcode_2   distance\n",
       "0          90001      90255   1.872821\n",
       "1          90001      90201   4.484633\n",
       "2          90001      90303   5.240103\n",
       "3          90001      90249   6.291307\n",
       "4          90001      90301   6.369897\n",
       "...          ...        ...        ...\n",
       "23436      91311      91748  45.804456\n",
       "23437      91311      93252  46.472639\n",
       "23438      91311      91773  47.034970\n",
       "23439      91311      90740  47.754886\n",
       "23440      91311      92801  48.454488\n",
       "\n",
       "[23441 rows x 3 columns]"
      ]
     },
     "execution_count": 35,
     "metadata": {},
     "output_type": "execute_result"
    }
   ],
   "source": [
    "# delete index column\n",
    "zipcode_dist_data_1.reset_index(drop=True)"
   ]
  },
  {
   "cell_type": "code",
   "execution_count": 38,
   "id": "0086a24b",
   "metadata": {},
   "outputs": [],
   "source": [
    "# Export to csv without index\n",
    "\n",
    "zipcode_dist_data_1.to_csv(\"xab_clean.csv\", header=False, index=False)\n",
    "\n",
    "# https://stackoverflow.com/questions/60117334/how-to-remove-the-index-column-in-pandas\n",
    "# https://stackoverflow.com/questions/16923281/writing-a-pandas-dataframe-to-csv-file\n",
    "# https://www.geeksforgeeks.org/saving-a-pandas-dataframe-as-a-csv/"
   ]
  },
  {
   "cell_type": "code",
   "execution_count": null,
   "id": "739068f2",
   "metadata": {},
   "outputs": [],
   "source": []
  }
 ],
 "metadata": {
  "kernelspec": {
   "display_name": "Python 3.8.2 64-bit",
   "language": "python",
   "name": "python38264bit4bd2b6f7f60940ce9b436b94eeace1e8"
  },
  "language_info": {
   "codemirror_mode": {
    "name": "ipython",
    "version": 3
   },
   "file_extension": ".py",
   "mimetype": "text/x-python",
   "name": "python",
   "nbconvert_exporter": "python",
   "pygments_lexer": "ipython3",
   "version": "3.8.2"
  }
 },
 "nbformat": 4,
 "nbformat_minor": 5
}
